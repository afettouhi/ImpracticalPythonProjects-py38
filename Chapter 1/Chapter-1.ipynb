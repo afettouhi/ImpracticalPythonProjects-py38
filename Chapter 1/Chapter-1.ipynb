{
 "cells": [
  {
   "cell_type": "code",
   "execution_count": 1,
   "metadata": {
    "collapsed": true
   },
   "outputs": [],
   "source": [
    "import math\n",
    "\n",
    "def circ(r):\n",
    "    \"\"\"\n",
    "    Return the circumference of a circle with radius of r.\n",
    "    \"\"\"\n",
    "    c = 2 * r * math.pi\n",
    "    return c"
   ]
  },
  {
   "cell_type": "code",
   "execution_count": 2,
   "outputs": [],
   "source": [
    "def circ(r):\n",
    "    \"\"\"\n",
    "    Return the circumference of a circle with radius of r.\n",
    "\n",
    "    Arguments:\n",
    "    r – radius of circle\n",
    "\n",
    "    Returns:\n",
    "        float: circumference of circle\n",
    "    \"\"\"\n",
    "    c = 2 * r * math.pi\n",
    "    return c"
   ],
   "metadata": {
    "collapsed": false,
    "pycharm": {
     "name": "#%%\n"
    }
   }
  },
  {
   "cell_type": "code",
   "execution_count": null,
   "outputs": [],
   "source": [],
   "metadata": {
    "collapsed": false,
    "pycharm": {
     "name": "#%%\n"
    }
   }
  }
 ],
 "metadata": {
  "kernelspec": {
   "display_name": "Python 3",
   "language": "python",
   "name": "python3"
  },
  "language_info": {
   "codemirror_mode": {
    "name": "ipython",
    "version": 2
   },
   "file_extension": ".py",
   "mimetype": "text/x-python",
   "name": "python",
   "nbconvert_exporter": "python",
   "pygments_lexer": "ipython2",
   "version": "2.7.6"
  }
 },
 "nbformat": 4,
 "nbformat_minor": 0
}